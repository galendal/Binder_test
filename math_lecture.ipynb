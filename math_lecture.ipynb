{
 "cells": [
  {
   "cell_type": "code",
   "execution_count": 4,
   "id": "57916960",
   "metadata": {},
   "outputs": [],
   "source": [
    "import pandas as pd\n",
    "import numpy as np\n",
    "from scipy.integrate import odeint\n",
    "import matplotlib.pyplot as plt\n",
    "\n",
    "%matplotlib inline\n",
    "#%matplotlib notebook\n",
    "from ipywidgets import interact, interactive, fixed, interact_manual, Layout\n",
    "import ipywidgets as widgets\n",
    "\n"
   ]
  },
  {
   "cell_type": "markdown",
   "id": "522493e0",
   "metadata": {},
   "source": [
    " # Very Simple Epidemic \n",
    " \n",
    " \n",
    " * $\\color{blue} S$ - susceptible\n",
    " * $\\color{red} I$ - infective\n",
    " \n",
    " \n",
    " \n",
    " Population is closed: $S(t)+I(t)=N,$ $N = \\it\\mbox{const.}$\n",
    " \n",
    " $\\beta$ is effective contact rate, contact rate $\\times$ transmissibility\n",
    " \n",
    " \n",
    " \n",
    "  $$\n",
    " \\left\\{\n",
    "\\begin{array}\\\\\n",
    "  \\dfrac{dS}{dt} = -\\beta  S \\, \\dfrac{ I}{ N} % \\quad \\mbox{ change in } S \\mbox{ population over time}\\  \n",
    "  \\\\\n",
    "    \\dfrac{dI}{dt}  = \\, \\beta S \\, \\dfrac{ I}{ N} % \\quad \\mbox{ change in } I \\mbox{ population over time}\n",
    "  \\end{array}\n",
    "  \\right., % \\quad   \\left(\\dfrac{dS}{dt}+\\dfrac{dI}{dt} =  0  \\right)\n",
    "  \\quad t \\in [0,T_{end}]\n",
    "  $$\n",
    "  \n",
    " \n",
    "\n",
    "  $$ \\dfrac{dI}{dt} = \\beta \\left(N-I\\right)  \\dfrac{ I}{ N} , \\quad  S(t) =N- I(t)   $$  "
   ]
  },
  {
   "cell_type": "markdown",
   "id": "6958b94d",
   "metadata": {},
   "source": [
    "### Steady states: \n",
    "\n",
    "\n",
    "$$ \\dfrac{dI}{dt}=0\n",
    "\\quad \\Longleftrightarrow \\quad\n",
    "\\beta I \\left(1-\\dfrac{ I}{ N}\\right) = 0 \\quad \\Longleftrightarrow \\quad\n",
    "\\begin{array}\\\\\n",
    "I =0\\\\\n",
    "I =N \n",
    "\\end{array}\n",
    "$$\n",
    "\n",
    "Meaning, if we  ever reach an unchaning state, it is either these two options: \n",
    "\n",
    "(i) everyone is infected, or \n",
    "\n",
    "(ii) none is infected.\n",
    "\n"
   ]
  },
  {
   "cell_type": "markdown",
   "id": "e7329a08",
   "metadata": {},
   "source": [
    "### Example\n",
    "\n",
    "$N=10 \\,000$ people\n",
    "\n",
    "$T_{end} = 160$ days \n",
    " \n"
   ]
  },
  {
   "cell_type": "code",
   "execution_count": 5,
   "id": "1aaa7ac1",
   "metadata": {},
   "outputs": [
    {
     "data": {
      "application/vnd.jupyter.widget-view+json": {
       "model_id": "050558564f0e462ca339eb7ee9b23d2e",
       "version_major": 2,
       "version_minor": 0
      },
      "text/plain": [
       "interactive(children=(Dropdown(description='I(0):', index=1, options=(0, 1, 100, 1000), value=1), FloatSlider(…"
      ]
     },
     "metadata": {},
     "output_type": "display_data"
    }
   ],
   "source": [
    "N=10000\n",
    "days = range(0, 160)\n",
    "\n",
    "mylayout =Layout(width='10cm')\n",
    "\n",
    "# The SI model \n",
    "def derivI(state, t, N, beta):\n",
    "    I = state\n",
    "    dIdt = beta * (N-I) * I / N \n",
    "    return dIdt\n",
    "\n",
    "\n",
    "\n",
    "def g(I0,r):\n",
    "    #r=effective_contact_rate\n",
    "    susceptible = N - I0\n",
    "    ret = odeint(derivI, I0,days,\n",
    "             args=(N, r))\n",
    "    \n",
    "    I = ret.T[0,:]\n",
    "    df = pd.DataFrame({\n",
    "        'suseptible': N - I,\n",
    "        'infective': I,\n",
    "         'day': days})\n",
    "    \n",
    "    df.plot(x='day',\n",
    "            y=['infective', 'suseptible'],\n",
    "            color=['#bb6424', '#aac6ca'],\n",
    "             );\n",
    "    plt.show()\n",
    "    dayP='inf';\n",
    "    if (r>0) and (I0>0):\n",
    "        dayP = np.ceil(np.log(0.9/0.1*(N-I0)/I0)/r);\n",
    "        dayP=np.int32(dayP)\n",
    "    print('days before 90% of the populaton is infected = ', dayP);\n",
    "    print('number of infective after 10 days = %.2f  ' % I[10]);\n",
    "    #print('days before 90% of the populaton are infected =',nd()np.argmax((np.round(I)>0.9*total_pop)));\n",
    "    #return df.round(2);\n",
    "\n",
    "    \n",
    "interact(g, I0=widgets.Dropdown(\n",
    "                options=[0, 1, 100, 1000],\n",
    "                value=1,\n",
    "                description='I(0):',\n",
    "                disabled=False,),\n",
    "             r=widgets.FloatSlider(min=0, max=1, step=0.1, value=0.1, description='beta:',\n",
    "                                  continuous_update=False,layout=mylayout,readout=True, readout_format='.1f'));\n",
    "    \n",
    "    \n",
    "#     I0=widgets.FloatSlider(min=0, max=1000, step=1, value=1, description='I(0):',\n",
    "#       continuous_update=False,layout=mylayout,readout=True, readout_format='5d'),\n",
    "#\n",
    "\n",
    "\n",
    "\n",
    "\n"
   ]
  },
  {
   "cell_type": "markdown",
   "id": "a163d203",
   "metadata": {},
   "source": [
    "### Question 1: \n",
    "Assume the exponential growth $$I(t) = I(0)\\, e^{\\beta t},$$ \n",
    "\n",
    "and calculate the number of infected after 10 days. Compare with the result above!"
   ]
  },
  {
   "cell_type": "code",
   "execution_count": 6,
   "id": "8090bcaa",
   "metadata": {},
   "outputs": [
    {
     "data": {
      "text/plain": [
       "2.718281828459045"
      ]
     },
     "execution_count": 6,
     "metadata": {},
     "output_type": "execute_result"
    }
   ],
   "source": [
    "1*np.exp(0.1*10)"
   ]
  },
  {
   "cell_type": "markdown",
   "id": "2429381b",
   "metadata": {},
   "source": [
    "# Simple epidemic (SIS)\n",
    " \n",
    " \n",
    " * $\\color{blue} S$ - suceptible\n",
    " * $\\color{red} I$ - infective\n",
    " \n",
    " \n",
    " \n",
    " Population is closed: $S(t)+I(t)=N,$ $N = \\it\\mbox{const.}$\n",
    " \n",
    " $\\beta$ is effective contact rate (contact rate $\\times$ transmissibility)\n",
    " \n",
    " $\\gamma$ is recovery rate \n",
    " \n",
    " \n",
    " \n",
    "  $$\n",
    " \\left\\{\n",
    "\\begin{array}\\\\\n",
    "  \\dfrac{dS}{dt} = -\\beta  S \\, \\dfrac{ I}{ N} + \\gamma I% \\quad \\mbox{ change in } S \\mbox{ population over time}\\  \n",
    "  \\\\\n",
    "    \\dfrac{dI}{dt}  = \\, \\beta S \\, \\dfrac{ I}{ N} - \\gamma I % \\quad \\mbox{ change in } I \\mbox{ population over time}\n",
    "  \\end{array}\n",
    "  \\right., % \\quad   \\left(\\dfrac{dS}{dt}+\\dfrac{dI}{dt} =  0  \\right)\n",
    "  \\quad t \\in [0, T_{end}]\n",
    "  $$\n",
    "  \n",
    " \n",
    "\n",
    "  $$ \\dfrac{dI}{dt} = \\beta I \\left(1 - \\frac{\\gamma} {\\beta} -\\dfrac{ I}{ N}\\right ), \\quad  S(t) =N- I(t)  $$"
   ]
  },
  {
   "cell_type": "markdown",
   "id": "a7e2a5e6",
   "metadata": {},
   "source": [
    "\n",
    "### Steady states: \n",
    "\n",
    "\n",
    "$$\n",
    " \\dfrac{dI}{dt}=0\n",
    "\\quad \\Longleftrightarrow \\quad \n",
    "\\beta I \\left(1 - \\frac{\\gamma} {\\beta} -\\dfrac{ I}{ N}\\right )=0  \\quad \\Longleftrightarrow \\quad\n",
    "\\left\\{\n",
    "\\begin{array}\\\\\n",
    "I =0 \\\\ \n",
    "I =\\left(1 - \\frac{\\gamma} {\\beta} \\right)N, \\mbox{ if } \\beta>\\gamma \n",
    "\\end{array}\n",
    "\\right.\n",
    "$$\n",
    "\n",
    "Introduce the basic reproduction number $R_0 = \\beta\\,/\\gamma$ (contact rate $\\times$ transmissibility $/$ recovery rate) \n",
    "\n",
    "Meaning, if we ever reach an unchaning state, it is either these two options: \n",
    "\n",
    "(i)  everyone recovers, or \n",
    "\n",
    "(ii) the infection persists."
   ]
  },
  {
   "cell_type": "markdown",
   "id": "264c8100",
   "metadata": {},
   "source": [
    "### Example\n",
    "\n",
    "$N=10 \\,000,$  $Days = 160,$ $\\gamma = 1/4$"
   ]
  },
  {
   "cell_type": "code",
   "execution_count": 7,
   "id": "eed7a911",
   "metadata": {},
   "outputs": [
    {
     "data": {
      "application/vnd.jupyter.widget-view+json": {
       "model_id": "adf75a3640244b78a9bf5c1818609a16",
       "version_major": 2,
       "version_minor": 0
      },
      "text/plain": [
       "interactive(children=(Dropdown(description='I(0):', disabled=True, index=3, options=(0, 1, 1000, 1500), value=…"
      ]
     },
     "metadata": {},
     "output_type": "display_data"
    }
   ],
   "source": [
    "# The SIS model \n",
    "\n",
    "gamma=1/4;\n",
    "def derivSIS(state, t, N, beta, gamma):\n",
    "    I = state\n",
    "    dIdt = beta * (N-I) * I / N - gamma*I \n",
    "    return dIdt\n",
    "\n",
    "\n",
    "def g(I0,gamma,R0):\n",
    "    beta=R0*gamma;\n",
    "    #beta=effective_contact_rate\n",
    "    ret = odeint(derivSIS, I0,days,\n",
    "             args=(N, beta,gamma))\n",
    "    \n",
    "    I = ret.T[0,:]\n",
    "    df = pd.DataFrame({\n",
    "        'suseptible': N - I,\n",
    "        'infective': I,\n",
    "         'day': days})\n",
    "    \n",
    "    df.plot(x='day',\n",
    "            y=['infective', 'suseptible'],\n",
    "            color=['#bb6424', '#aac6ca'],\n",
    "             );\n",
    "    plt.show()\n",
    "    dayP='inf';\n",
    "#         dayP = np.ceil(np.log(0.9/0.1*(N-I0)/I0)/r);\n",
    "#         dayP=np.int32(dayP)\n",
    "#     print('days before 90% of the populaton is infected = ', dayP);\n",
    "    print('Steady states: I=0, I=',(1-gamma/beta)*N)\n",
    "    print('number of infected after 10 days = %.2f  ' % I[10]);\n",
    "    #print('days before 90% of the populaton are infected =',nd()np.argmax((np.round(I)>0.9*total_pop)));\n",
    "    #return df.round(2);\n",
    "\n",
    "    \n",
    "interact(g, I0=widgets.Dropdown(\n",
    "                options=[0, 1, 1000, 1500],\n",
    "                value=1500,\n",
    "                description='I(0):',\n",
    "                disabled=True,),\n",
    "            gamma=widgets.Dropdown(\n",
    "                options=[0.1, 0.25],\n",
    "                value=0.25,\n",
    "                description='gamma:',\n",
    "                disabled=True,),\n",
    "             R0=widgets.FloatSlider(min=0.6, max=3., step=0.2, value=2., description='R0:',\n",
    "                                  continuous_update=False,layout=mylayout,readout=True, readout_format='.1f'));\n",
    "    \n",
    "    \n",
    "#     I0=widgets.FloatSlider(min=0, max=1000, step=1, value=1, description='I(0):',\n",
    "#       continuous_update=False,layout=mylayout,readout=True, readout_format='5d'),\n",
    "#\n",
    "\n",
    "\n"
   ]
  },
  {
   "cell_type": "markdown",
   "id": "a7465daf",
   "metadata": {},
   "source": [
    "### Question 2: \n",
    "Remember that $R_0 = \\beta\\, /\\,\\gamma.$ Assume that the recovery rate $\\gamma = 0.1.$ \n",
    "\n",
    "What must be the effective contact rate $\\beta$ to completely erradicate the epidemics?"
   ]
  },
  {
   "cell_type": "code",
   "execution_count": null,
   "id": "6efbc532",
   "metadata": {},
   "outputs": [],
   "source": []
  },
  {
   "cell_type": "markdown",
   "id": "edb04a40",
   "metadata": {},
   "source": [
    "### Question 3: \n",
    "What are the strategies to keep $R_0$ below 1?\n",
    "\n"
   ]
  },
  {
   "cell_type": "code",
   "execution_count": null,
   "id": "930a684b",
   "metadata": {},
   "outputs": [],
   "source": []
  },
  {
   "cell_type": "markdown",
   "id": "8db9d87c",
   "metadata": {},
   "source": [
    "# Simple epidemic (SIR)\n",
    " \n",
    " \n",
    " * $\\color{blue} S$ - suceptible\n",
    " * $\\color{red} I$ - infective\n",
    " * $\\color{green} R$ - removed (dead or alive!)\n",
    " \n",
    " \n",
    " \n",
    " Population is closed: $S(t)+I(t)+R(t)=N,$ $N = \\it\\mbox{const.}$\n",
    " \n",
    " $\\beta$ is effective contact rate (contact rate $\\times$ transmissibility)\n",
    " \n",
    " $\\gamma$ is recovery rate \n",
    " \n",
    " \n",
    " \n",
    "  $$\n",
    " \\left\\{\n",
    "\\begin{array}\\\\\n",
    "  \\dfrac{dS}{dt} = -\\beta  S \\, \\dfrac{ I}{ N} % \\quad \\mbox{ change in } S \\mbox{ population over time}\\  \n",
    "  \\\\\n",
    "    \\dfrac{dI}{dt}  = \\, \\beta S \\, \\dfrac{ I}{ N} - \\gamma I % \\quad \\mbox{ change in } I \\mbox{ population over time}\n",
    "    \\\\\n",
    "    \\dfrac{dR}{dt}  = \\gamma I\\\\\n",
    "  \\end{array}\n",
    "  \\right., % \\quad   \\left(\\dfrac{dS}{dt}+\\dfrac{dI}{dt} =  0  \\right)\n",
    "  \\quad t \\in [0, T_{end}]\n",
    "  $$\n",
    "   \n",
    "   \n",
    "   $$\n",
    " \\left\\{\n",
    "\\begin{array}\\\\\n",
    "  \\dfrac{dS}{dt} = -\\beta  S \\, \\dfrac{ I}{ N} % \\quad \\mbox{ change in } S \\mbox{ population over time}\\  \n",
    "  \\\\\n",
    "    \\dfrac{dI}{dt}  = \\, \\beta S \\, \\dfrac{ I}{ N} - \\gamma I % \\quad \\mbox{ change in } I \\mbox{ population over time}\n",
    "    \\end{array}\n",
    "  \\right., % \\quad   \\left(\\dfrac{dS}{dt}+\\dfrac{dI}{dt} =  0  \\right)\n",
    "  \\quad t \\in [0, T_{end}]\n",
    "  $$ \n",
    "\n",
    "  $$\n",
    "  R(t)  = N-S(t) -  I(t). \\quad \\quad \\quad \\quad\n",
    "  $$"
   ]
  },
  {
   "cell_type": "markdown",
   "id": "e7de8d22",
   "metadata": {},
   "source": [
    "\n",
    "### Steady states: \n",
    "\n",
    "\n",
    "$$\n",
    "I=0 \\quad \\mbox{and} \\quad S+R=N\n",
    "$$\n",
    "\n",
    "Meaning, the infection always dies out, but look at the progression!\n",
    "\n"
   ]
  },
  {
   "cell_type": "code",
   "execution_count": 8,
   "id": "9def1662",
   "metadata": {},
   "outputs": [
    {
     "data": {
      "application/vnd.jupyter.widget-view+json": {
       "model_id": "a90ea59fcc0e47a0add7e22d4ebf3358",
       "version_major": 2,
       "version_minor": 0
      },
      "text/plain": [
       "interactive(children=(Dropdown(description='I(0):', disabled=True, index=1, options=(0, 1, 1000, 1500), value=…"
      ]
     },
     "metadata": {},
     "output_type": "display_data"
    }
   ],
   "source": [
    "# The SIR model differential equations.\n",
    "\n",
    "N=10000\n",
    "gamma=1/4;\n",
    "days = range(0, 160)\n",
    "\n",
    "def deriv(state, t, N, beta, gamma):\n",
    "    S, I, R = state\n",
    "    # Change in S population over time\n",
    "    dSdt = -beta * S * I / N\n",
    "    # Change in I population over time\n",
    "    dIdt = beta * S * I / N - gamma * I\n",
    "    # Change in R population over time\n",
    "    dRdt = gamma * I\n",
    "    return dSdt, dIdt, dRdt\n",
    "\n",
    "\n",
    "mylayout =Layout(width='10cm')\n",
    "\n",
    "def g(I0,gamma,R0):\n",
    "    #r=effective_contact_rate\n",
    "    beta=R0*gamma;\n",
    "    S0 = N - I0\n",
    "    ret = odeint(deriv, [S0, I0, 0],\n",
    "             days,\n",
    "             args=(N, beta, gamma))\n",
    "    \n",
    "    S, I, R = ret.T\n",
    "    \n",
    "    df = pd.DataFrame({\n",
    "    'suseptible': S,\n",
    "    'infective': I,\n",
    "    'recovered': R,\n",
    "    'day': days})\n",
    "    \n",
    "    df.plot(x='day',\n",
    "            y=['infective', 'suseptible', 'recovered'],\n",
    "            color=['#bb6424', '#aac6ca', '#cc8ac0'],\n",
    "             );\n",
    "    plt.show()\n",
    "    \n",
    "    print('max number of infected =',np.max(I));\n",
    "\n",
    " \n",
    "interact(g, I0=widgets.Dropdown(\n",
    "                options=[0, 1, 1000, 1500],\n",
    "                value=1,\n",
    "                description='I(0):',\n",
    "                disabled=True,),\n",
    "            gamma=widgets.Dropdown(\n",
    "                options=[0.1, 0.25],\n",
    "                value=0.25,\n",
    "                description='gamma:',\n",
    "                disabled=True,),\n",
    "             R0=widgets.FloatSlider(min=0.8, max=4., step=0.1, value=2., description='R0:',\n",
    "                                  continuous_update=False,layout=mylayout,readout=True, readout_format='.1f'));\n",
    "    \n",
    "    \n",
    "\n",
    "# interact(g, r=widgets.FloatSlider(min=0, max=5, step=0.1, value=0.5, description='eff.contact rate:',\n",
    "#                                   continuous_update=False,layout=mylayout,readout=True, readout_format='.1f',),\n",
    "#             b=widgets.FloatSlider(min=0, max=1, step=0.01, value=0.25, description='recovery rate:',\n",
    "#                                   continuous_update=False,layout=mylayout,readout=True, readout_format='.2f',));\n",
    "    \n",
    "\n",
    "\n",
    "\n",
    "# If you get the error:\n",
    "#\n",
    "#     When stacked is True, each column must be either all\n",
    "#     positive or negative.infected contains both...\n",
    "#\n",
    "# just change stacked=True to stacked=False"
   ]
  },
  {
   "cell_type": "markdown",
   "id": "ba5056de",
   "metadata": {},
   "source": [
    "### Question 4: \n",
    "Let the recovery rate $\\gamma =0.25$ as above.\n",
    "\n",
    "What value of $R_0>1$ will keep the maximum number of infective below $1600$?\n",
    "\n",
    "Calculate the corresponding $\\beta.$\n",
    "\n"
   ]
  },
  {
   "cell_type": "code",
   "execution_count": 9,
   "id": "7043b145",
   "metadata": {},
   "outputs": [
    {
     "name": "stdout",
     "output_type": "stream",
     "text": [
      "0.5\n"
     ]
    }
   ],
   "source": [
    "R0 = 2.0 # your answer, then Ctrl+Enter\n",
    "beta= R0*gamma\n",
    "\n",
    "print(beta)"
   ]
  },
  {
   "cell_type": "markdown",
   "id": "eae7bdc1",
   "metadata": {},
   "source": [
    "### Question 5: \n",
    "\n",
    "Use $\\beta$ from Question 4, and remember that \n",
    "$$\\beta= \\mbox{ contact rate } \\times \\mbox{ transmissibility }$$\n",
    " \n",
    "Assume that $\\mbox{transmissibility} = 0.1 $\n",
    "\n",
    "\n",
    "How many people on average one can meet per day?\n",
    "\n"
   ]
  },
  {
   "cell_type": "code",
   "execution_count": 10,
   "id": "fcd8b03d",
   "metadata": {},
   "outputs": [
    {
     "name": "stdout",
     "output_type": "stream",
     "text": [
      "0 people per day\n"
     ]
    }
   ],
   "source": [
    "contact_rate =0 # insert your answer, then Ctrl+Enter\n",
    "\n",
    "print(contact_rate,'people per day')"
   ]
  },
  {
   "cell_type": "code",
   "execution_count": null,
   "id": "616a343e",
   "metadata": {},
   "outputs": [],
   "source": []
  }
 ],
 "metadata": {
  "hide_input": false,
  "kernelspec": {
   "display_name": "Python 3",
   "language": "python",
   "name": "python3"
  },
  "language_info": {
   "codemirror_mode": {
    "name": "ipython",
    "version": 3
   },
   "file_extension": ".py",
   "mimetype": "text/x-python",
   "name": "python",
   "nbconvert_exporter": "python",
   "pygments_lexer": "ipython3",
   "version": "3.8.5"
  },
  "varInspector": {
   "cols": {
    "lenName": 16,
    "lenType": 16,
    "lenVar": 40
   },
   "kernels_config": {
    "python": {
     "delete_cmd_postfix": "",
     "delete_cmd_prefix": "del ",
     "library": "var_list.py",
     "varRefreshCmd": "print(var_dic_list())"
    },
    "r": {
     "delete_cmd_postfix": ") ",
     "delete_cmd_prefix": "rm(",
     "library": "var_list.r",
     "varRefreshCmd": "cat(var_dic_list()) "
    }
   },
   "types_to_exclude": [
    "module",
    "function",
    "builtin_function_or_method",
    "instance",
    "_Feature"
   ],
   "window_display": false
  }
 },
 "nbformat": 4,
 "nbformat_minor": 5
}
